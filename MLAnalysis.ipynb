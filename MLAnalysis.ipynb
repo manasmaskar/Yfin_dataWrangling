{
 "cells": [
  {
   "cell_type": "code",
   "execution_count": 17,
   "id": "1c3b276c",
   "metadata": {},
   "outputs": [
    {
     "name": "stdout",
     "output_type": "stream",
     "text": [
      "Collecting pmdarima\n",
      "  Obtaining dependency information for pmdarima from https://files.pythonhosted.org/packages/40/e5/78afab229ccdaf6b947036440799dbdf88e2cd632e2f96b81f32de8aa05a/pmdarima-2.0.4-cp311-cp311-macosx_11_0_arm64.whl.metadata\n",
      "  Downloading pmdarima-2.0.4-cp311-cp311-macosx_11_0_arm64.whl.metadata (7.8 kB)\n",
      "Requirement already satisfied: joblib>=0.11 in /Users/tanavi/anaconda3/lib/python3.11/site-packages (from pmdarima) (1.2.0)\n",
      "Collecting Cython!=0.29.18,!=0.29.31,>=0.29 (from pmdarima)\n",
      "  Obtaining dependency information for Cython!=0.29.18,!=0.29.31,>=0.29 from https://files.pythonhosted.org/packages/b6/83/b0a63fc7b315edd46821a1a381d18765c1353d201246da44558175cddd56/Cython-3.0.10-py2.py3-none-any.whl.metadata\n",
      "  Downloading Cython-3.0.10-py2.py3-none-any.whl.metadata (3.2 kB)\n",
      "Requirement already satisfied: numpy>=1.21.2 in /Users/tanavi/anaconda3/lib/python3.11/site-packages (from pmdarima) (1.26.4)\n",
      "Requirement already satisfied: pandas>=0.19 in /Users/tanavi/anaconda3/lib/python3.11/site-packages (from pmdarima) (2.0.3)\n",
      "Requirement already satisfied: scikit-learn>=0.22 in /Users/tanavi/anaconda3/lib/python3.11/site-packages (from pmdarima) (1.3.0)\n",
      "Requirement already satisfied: scipy>=1.3.2 in /Users/tanavi/anaconda3/lib/python3.11/site-packages (from pmdarima) (1.11.1)\n",
      "Requirement already satisfied: statsmodels>=0.13.2 in /Users/tanavi/anaconda3/lib/python3.11/site-packages (from pmdarima) (0.14.0)\n",
      "Requirement already satisfied: urllib3 in /Users/tanavi/anaconda3/lib/python3.11/site-packages (from pmdarima) (1.26.16)\n",
      "Requirement already satisfied: setuptools!=50.0.0,>=38.6.0 in /Users/tanavi/anaconda3/lib/python3.11/site-packages (from pmdarima) (68.0.0)\n",
      "Requirement already satisfied: packaging>=17.1 in /Users/tanavi/anaconda3/lib/python3.11/site-packages (from pmdarima) (23.1)\n",
      "Requirement already satisfied: python-dateutil>=2.8.2 in /Users/tanavi/anaconda3/lib/python3.11/site-packages (from pandas>=0.19->pmdarima) (2.8.2)\n",
      "Requirement already satisfied: pytz>=2020.1 in /Users/tanavi/anaconda3/lib/python3.11/site-packages (from pandas>=0.19->pmdarima) (2023.3.post1)\n",
      "Requirement already satisfied: tzdata>=2022.1 in /Users/tanavi/anaconda3/lib/python3.11/site-packages (from pandas>=0.19->pmdarima) (2023.3)\n",
      "Requirement already satisfied: threadpoolctl>=2.0.0 in /Users/tanavi/anaconda3/lib/python3.11/site-packages (from scikit-learn>=0.22->pmdarima) (2.2.0)\n",
      "Requirement already satisfied: patsy>=0.5.2 in /Users/tanavi/anaconda3/lib/python3.11/site-packages (from statsmodels>=0.13.2->pmdarima) (0.5.3)\n",
      "Requirement already satisfied: six in /Users/tanavi/anaconda3/lib/python3.11/site-packages (from patsy>=0.5.2->statsmodels>=0.13.2->pmdarima) (1.16.0)\n",
      "Downloading pmdarima-2.0.4-cp311-cp311-macosx_11_0_arm64.whl (628 kB)\n",
      "\u001b[2K   \u001b[90m━━━━━━━━━━━━━━━━━━━━━━━━━━━━━━━━━━━━━━━━\u001b[0m \u001b[32m628.0/628.0 kB\u001b[0m \u001b[31m6.7 MB/s\u001b[0m eta \u001b[36m0:00:00\u001b[0m00:01\u001b[0m00:01\u001b[0m\n",
      "\u001b[?25hDownloading Cython-3.0.10-py2.py3-none-any.whl (1.2 MB)\n",
      "\u001b[2K   \u001b[90m━━━━━━━━━━━━━━━━━━━━━━━━━━━━━━━━━━━━━━━━\u001b[0m \u001b[32m1.2/1.2 MB\u001b[0m \u001b[31m10.6 MB/s\u001b[0m eta \u001b[36m0:00:00\u001b[0m00:01\u001b[0m00:01\u001b[0m\n",
      "\u001b[?25hInstalling collected packages: Cython, pmdarima\n",
      "\u001b[31mERROR: pip's dependency resolver does not currently take into account all the packages that are installed. This behaviour is the source of the following dependency conflicts.\n",
      "tables 3.8.0 requires blosc2~=2.0.0, which is not installed.\u001b[0m\u001b[31m\n",
      "\u001b[0mSuccessfully installed Cython-3.0.10 pmdarima-2.0.4\n"
     ]
    }
   ],
   "source": [
    "! pip install pmdarima"
   ]
  },
  {
   "cell_type": "code",
   "execution_count": 1,
   "id": "0983ec93",
   "metadata": {},
   "outputs": [],
   "source": [
    "import pandas as pd\n",
    "import numpy as np\n",
    "import matplotlib.pyplot as plt\n",
    "import seaborn as sns\n",
    "import itertools\n",
    "\n",
    "from pmdarima import auto_arima\n",
    "from statsmodels.graphics.tsaplots import plot_acf, plot_pacf\n",
    "from statsmodels.tsa.arima.model import ARIMA"
   ]
  },
  {
   "cell_type": "code",
   "execution_count": 2,
   "id": "1e647749",
   "metadata": {},
   "outputs": [
    {
     "data": {
      "text/html": [
       "<div>\n",
       "<style scoped>\n",
       "    .dataframe tbody tr th:only-of-type {\n",
       "        vertical-align: middle;\n",
       "    }\n",
       "\n",
       "    .dataframe tbody tr th {\n",
       "        vertical-align: top;\n",
       "    }\n",
       "\n",
       "    .dataframe thead th {\n",
       "        text-align: right;\n",
       "    }\n",
       "</style>\n",
       "<table border=\"1\" class=\"dataframe\">\n",
       "  <thead>\n",
       "    <tr style=\"text-align: right;\">\n",
       "      <th></th>\n",
       "      <th>company_name</th>\n",
       "      <th>Open</th>\n",
       "      <th>High</th>\n",
       "      <th>Low</th>\n",
       "      <th>Close</th>\n",
       "      <th>Adj Close</th>\n",
       "      <th>Volume</th>\n",
       "      <th>MACD</th>\n",
       "      <th>Signal Line</th>\n",
       "    </tr>\n",
       "    <tr>\n",
       "      <th>Date</th>\n",
       "      <th></th>\n",
       "      <th></th>\n",
       "      <th></th>\n",
       "      <th></th>\n",
       "      <th></th>\n",
       "      <th></th>\n",
       "      <th></th>\n",
       "      <th></th>\n",
       "      <th></th>\n",
       "    </tr>\n",
       "  </thead>\n",
       "  <tbody>\n",
       "    <tr>\n",
       "      <th>2005-01-03</th>\n",
       "      <td>apple</td>\n",
       "      <td>1.156786</td>\n",
       "      <td>1.162679</td>\n",
       "      <td>1.117857</td>\n",
       "      <td>1.130179</td>\n",
       "      <td>0.956809</td>\n",
       "      <td>691992000</td>\n",
       "      <td>0.000000</td>\n",
       "      <td>0.000000</td>\n",
       "    </tr>\n",
       "    <tr>\n",
       "      <th>2005-01-04</th>\n",
       "      <td>apple</td>\n",
       "      <td>1.139107</td>\n",
       "      <td>1.169107</td>\n",
       "      <td>1.124464</td>\n",
       "      <td>1.141786</td>\n",
       "      <td>0.966635</td>\n",
       "      <td>1096810400</td>\n",
       "      <td>0.000220</td>\n",
       "      <td>0.000122</td>\n",
       "    </tr>\n",
       "    <tr>\n",
       "      <th>2005-01-05</th>\n",
       "      <td>apple</td>\n",
       "      <td>1.151071</td>\n",
       "      <td>1.165179</td>\n",
       "      <td>1.143750</td>\n",
       "      <td>1.151786</td>\n",
       "      <td>0.975101</td>\n",
       "      <td>680433600</td>\n",
       "      <td>0.000543</td>\n",
       "      <td>0.000295</td>\n",
       "    </tr>\n",
       "    <tr>\n",
       "      <th>2005-01-06</th>\n",
       "      <td>apple</td>\n",
       "      <td>1.154821</td>\n",
       "      <td>1.159107</td>\n",
       "      <td>1.130893</td>\n",
       "      <td>1.152679</td>\n",
       "      <td>0.975858</td>\n",
       "      <td>705555200</td>\n",
       "      <td>0.000704</td>\n",
       "      <td>0.000434</td>\n",
       "    </tr>\n",
       "    <tr>\n",
       "      <th>2005-01-07</th>\n",
       "      <td>apple</td>\n",
       "      <td>1.160714</td>\n",
       "      <td>1.243393</td>\n",
       "      <td>1.156250</td>\n",
       "      <td>1.236607</td>\n",
       "      <td>1.046911</td>\n",
       "      <td>2227450400</td>\n",
       "      <td>0.003604</td>\n",
       "      <td>0.001377</td>\n",
       "    </tr>\n",
       "  </tbody>\n",
       "</table>\n",
       "</div>"
      ],
      "text/plain": [
       "           company_name      Open      High       Low     Close  Adj Close  \\\n",
       "Date                                                                         \n",
       "2005-01-03        apple  1.156786  1.162679  1.117857  1.130179   0.956809   \n",
       "2005-01-04        apple  1.139107  1.169107  1.124464  1.141786   0.966635   \n",
       "2005-01-05        apple  1.151071  1.165179  1.143750  1.151786   0.975101   \n",
       "2005-01-06        apple  1.154821  1.159107  1.130893  1.152679   0.975858   \n",
       "2005-01-07        apple  1.160714  1.243393  1.156250  1.236607   1.046911   \n",
       "\n",
       "                Volume      MACD  Signal Line  \n",
       "Date                                           \n",
       "2005-01-03   691992000  0.000000     0.000000  \n",
       "2005-01-04  1096810400  0.000220     0.000122  \n",
       "2005-01-05   680433600  0.000543     0.000295  \n",
       "2005-01-06   705555200  0.000704     0.000434  \n",
       "2005-01-07  2227450400  0.003604     0.001377  "
      ]
     },
     "execution_count": 2,
     "metadata": {},
     "output_type": "execute_result"
    }
   ],
   "source": [
    "df = pd.read_csv(\"companies_and_stock_info\", parse_dates=[\"Date\"], index_col=\"Date\")\n",
    "df.head()"
   ]
  },
  {
   "cell_type": "code",
   "execution_count": 3,
   "id": "ed5f2c53",
   "metadata": {},
   "outputs": [
    {
     "data": {
      "text/plain": [
       "array(['apple', 'microsoft', 'google', 'jpmc', 'boa', 'wfc', 'jnj',\n",
       "       'pfizer', 'merck', 'exxon', 'chevron', 'facebook', 'verizon',\n",
       "       'atnt'], dtype=object)"
      ]
     },
     "execution_count": 3,
     "metadata": {},
     "output_type": "execute_result"
    }
   ],
   "source": [
    "df[\"company_name\"].unique()"
   ]
  },
  {
   "cell_type": "code",
   "execution_count": 4,
   "id": "ee9cd7eb",
   "metadata": {},
   "outputs": [
    {
     "name": "stdout",
     "output_type": "stream",
     "text": [
      "ANY NULL VALUES---\n",
      " company_name    0\n",
      "Open            0\n",
      "High            0\n",
      "Low             0\n",
      "Close           0\n",
      "Adj Close       0\n",
      "Volume          0\n",
      "MACD            0\n",
      "Signal Line     0\n",
      "dtype: int64\n"
     ]
    }
   ],
   "source": [
    "print('ANY NULL VALUES---\\n',df.isnull().sum(axis = 0))"
   ]
  },
  {
   "cell_type": "code",
   "execution_count": 5,
   "id": "19b338f4",
   "metadata": {},
   "outputs": [
    {
     "data": {
      "text/html": [
       "<div>\n",
       "<style scoped>\n",
       "    .dataframe tbody tr th:only-of-type {\n",
       "        vertical-align: middle;\n",
       "    }\n",
       "\n",
       "    .dataframe tbody tr th {\n",
       "        vertical-align: top;\n",
       "    }\n",
       "\n",
       "    .dataframe thead th {\n",
       "        text-align: right;\n",
       "    }\n",
       "</style>\n",
       "<table border=\"1\" class=\"dataframe\">\n",
       "  <thead>\n",
       "    <tr style=\"text-align: right;\">\n",
       "      <th></th>\n",
       "      <th>company_name</th>\n",
       "      <th>Open</th>\n",
       "      <th>High</th>\n",
       "      <th>Low</th>\n",
       "      <th>Close</th>\n",
       "      <th>Adj Close</th>\n",
       "      <th>Volume</th>\n",
       "      <th>MACD</th>\n",
       "      <th>Signal Line</th>\n",
       "      <th>Sector</th>\n",
       "    </tr>\n",
       "    <tr>\n",
       "      <th>Date</th>\n",
       "      <th></th>\n",
       "      <th></th>\n",
       "      <th></th>\n",
       "      <th></th>\n",
       "      <th></th>\n",
       "      <th></th>\n",
       "      <th></th>\n",
       "      <th></th>\n",
       "      <th></th>\n",
       "      <th></th>\n",
       "    </tr>\n",
       "  </thead>\n",
       "  <tbody>\n",
       "    <tr>\n",
       "      <th>2005-01-03</th>\n",
       "      <td>apple</td>\n",
       "      <td>1.156786</td>\n",
       "      <td>1.162679</td>\n",
       "      <td>1.117857</td>\n",
       "      <td>1.130179</td>\n",
       "      <td>0.956809</td>\n",
       "      <td>691992000</td>\n",
       "      <td>0.000000</td>\n",
       "      <td>0.000000</td>\n",
       "      <td>Technology</td>\n",
       "    </tr>\n",
       "    <tr>\n",
       "      <th>2005-01-04</th>\n",
       "      <td>apple</td>\n",
       "      <td>1.139107</td>\n",
       "      <td>1.169107</td>\n",
       "      <td>1.124464</td>\n",
       "      <td>1.141786</td>\n",
       "      <td>0.966635</td>\n",
       "      <td>1096810400</td>\n",
       "      <td>0.000220</td>\n",
       "      <td>0.000122</td>\n",
       "      <td>Technology</td>\n",
       "    </tr>\n",
       "    <tr>\n",
       "      <th>2005-01-05</th>\n",
       "      <td>apple</td>\n",
       "      <td>1.151071</td>\n",
       "      <td>1.165179</td>\n",
       "      <td>1.143750</td>\n",
       "      <td>1.151786</td>\n",
       "      <td>0.975101</td>\n",
       "      <td>680433600</td>\n",
       "      <td>0.000543</td>\n",
       "      <td>0.000295</td>\n",
       "      <td>Technology</td>\n",
       "    </tr>\n",
       "    <tr>\n",
       "      <th>2005-01-06</th>\n",
       "      <td>apple</td>\n",
       "      <td>1.154821</td>\n",
       "      <td>1.159107</td>\n",
       "      <td>1.130893</td>\n",
       "      <td>1.152679</td>\n",
       "      <td>0.975858</td>\n",
       "      <td>705555200</td>\n",
       "      <td>0.000704</td>\n",
       "      <td>0.000434</td>\n",
       "      <td>Technology</td>\n",
       "    </tr>\n",
       "    <tr>\n",
       "      <th>2005-01-07</th>\n",
       "      <td>apple</td>\n",
       "      <td>1.160714</td>\n",
       "      <td>1.243393</td>\n",
       "      <td>1.156250</td>\n",
       "      <td>1.236607</td>\n",
       "      <td>1.046911</td>\n",
       "      <td>2227450400</td>\n",
       "      <td>0.003604</td>\n",
       "      <td>0.001377</td>\n",
       "      <td>Technology</td>\n",
       "    </tr>\n",
       "  </tbody>\n",
       "</table>\n",
       "</div>"
      ],
      "text/plain": [
       "           company_name      Open      High       Low     Close  Adj Close  \\\n",
       "Date                                                                         \n",
       "2005-01-03        apple  1.156786  1.162679  1.117857  1.130179   0.956809   \n",
       "2005-01-04        apple  1.139107  1.169107  1.124464  1.141786   0.966635   \n",
       "2005-01-05        apple  1.151071  1.165179  1.143750  1.151786   0.975101   \n",
       "2005-01-06        apple  1.154821  1.159107  1.130893  1.152679   0.975858   \n",
       "2005-01-07        apple  1.160714  1.243393  1.156250  1.236607   1.046911   \n",
       "\n",
       "                Volume      MACD  Signal Line      Sector  \n",
       "Date                                                       \n",
       "2005-01-03   691992000  0.000000     0.000000  Technology  \n",
       "2005-01-04  1096810400  0.000220     0.000122  Technology  \n",
       "2005-01-05   680433600  0.000543     0.000295  Technology  \n",
       "2005-01-06   705555200  0.000704     0.000434  Technology  \n",
       "2005-01-07  2227450400  0.003604     0.001377  Technology  "
      ]
     },
     "execution_count": 5,
     "metadata": {},
     "output_type": "execute_result"
    }
   ],
   "source": [
    "# Define a dictionary mapping each company to its sector\n",
    "sector_mapping = {\n",
    "    'apple': 'Technology',\n",
    "    'microsoft': 'Technology',\n",
    "    'google': 'Technology',\n",
    "    'jpmc': 'Finance',\n",
    "    'boa': 'Finance',\n",
    "    'wfc': 'Finance',\n",
    "    'jnj': 'Healthcare',\n",
    "    'pfizer': 'Healthcare',\n",
    "    'merck': 'Healthcare',\n",
    "    'exxon': 'Energy',\n",
    "    'chevron': 'Energy',\n",
    "    'facebook': 'Communication',\n",
    "    'verizon': 'Communication',\n",
    "    'atnt': 'Communication'\n",
    "}\n",
    "\n",
    "df['Sector'] = df['company_name'].map(sector_mapping)\n",
    "\n",
    "df.head()"
   ]
  },
  {
   "cell_type": "code",
   "execution_count": 6,
   "id": "d22eb0f3",
   "metadata": {},
   "outputs": [
    {
     "data": {
      "text/plain": [
       "Index(['company_name', 'Open', 'High', 'Low', 'Close', 'Adj Close', 'Volume',\n",
       "       'MACD', 'Signal Line', 'Sector'],\n",
       "      dtype='object')"
      ]
     },
     "execution_count": 6,
     "metadata": {},
     "output_type": "execute_result"
    }
   ],
   "source": [
    "df.columns"
   ]
  },
  {
   "cell_type": "code",
   "execution_count": 7,
   "id": "af58670c",
   "metadata": {},
   "outputs": [
    {
     "data": {
      "text/plain": [
       "company_name       14\n",
       "Open            30959\n",
       "High            30916\n",
       "Low             30959\n",
       "Close           31594\n",
       "Adj Close       62073\n",
       "Volume          63557\n",
       "MACD            66029\n",
       "Signal Line     66029\n",
       "Sector              5\n",
       "dtype: int64"
      ]
     },
     "execution_count": 7,
     "metadata": {},
     "output_type": "execute_result"
    }
   ],
   "source": [
    "df.nunique()"
   ]
  },
  {
   "cell_type": "markdown",
   "id": "2c88af2a",
   "metadata": {},
   "source": [
    "####  Basic Statistics "
   ]
  },
  {
   "cell_type": "code",
   "execution_count": 8,
   "id": "cb7a1791",
   "metadata": {},
   "outputs": [
    {
     "data": {
      "text/html": [
       "<div>\n",
       "<style scoped>\n",
       "    .dataframe tbody tr th:only-of-type {\n",
       "        vertical-align: middle;\n",
       "    }\n",
       "\n",
       "    .dataframe tbody tr th {\n",
       "        vertical-align: top;\n",
       "    }\n",
       "\n",
       "    .dataframe thead th {\n",
       "        text-align: right;\n",
       "    }\n",
       "</style>\n",
       "<table border=\"1\" class=\"dataframe\">\n",
       "  <thead>\n",
       "    <tr style=\"text-align: right;\">\n",
       "      <th></th>\n",
       "      <th>Mean</th>\n",
       "      <th>Median</th>\n",
       "      <th>Standard Deviation</th>\n",
       "    </tr>\n",
       "  </thead>\n",
       "  <tbody>\n",
       "    <tr>\n",
       "      <th>Open</th>\n",
       "      <td>6.372299e+01</td>\n",
       "      <td>4.631250e+01</td>\n",
       "      <td>5.654971e+01</td>\n",
       "    </tr>\n",
       "    <tr>\n",
       "      <th>High</th>\n",
       "      <td>6.434341e+01</td>\n",
       "      <td>4.676000e+01</td>\n",
       "      <td>5.714018e+01</td>\n",
       "    </tr>\n",
       "    <tr>\n",
       "      <th>Low</th>\n",
       "      <td>6.309623e+01</td>\n",
       "      <td>4.589347e+01</td>\n",
       "      <td>5.597350e+01</td>\n",
       "    </tr>\n",
       "    <tr>\n",
       "      <th>Close</th>\n",
       "      <td>6.373471e+01</td>\n",
       "      <td>4.631000e+01</td>\n",
       "      <td>5.657969e+01</td>\n",
       "    </tr>\n",
       "    <tr>\n",
       "      <th>Adj Close</th>\n",
       "      <td>5.281323e+01</td>\n",
       "      <td>3.471290e+01</td>\n",
       "      <td>5.672724e+01</td>\n",
       "    </tr>\n",
       "    <tr>\n",
       "      <th>Volume</th>\n",
       "      <td>6.353079e+07</td>\n",
       "      <td>2.262917e+07</td>\n",
       "      <td>1.548333e+08</td>\n",
       "    </tr>\n",
       "    <tr>\n",
       "      <th>MACD</th>\n",
       "      <td>-1.240202e+00</td>\n",
       "      <td>6.566909e-02</td>\n",
       "      <td>7.471101e+00</td>\n",
       "    </tr>\n",
       "    <tr>\n",
       "      <th>Signal Line</th>\n",
       "      <td>-1.239155e+00</td>\n",
       "      <td>6.460009e-02</td>\n",
       "      <td>7.448345e+00</td>\n",
       "    </tr>\n",
       "  </tbody>\n",
       "</table>\n",
       "</div>"
      ],
      "text/plain": [
       "                     Mean        Median  Standard Deviation\n",
       "Open         6.372299e+01  4.631250e+01        5.654971e+01\n",
       "High         6.434341e+01  4.676000e+01        5.714018e+01\n",
       "Low          6.309623e+01  4.589347e+01        5.597350e+01\n",
       "Close        6.373471e+01  4.631000e+01        5.657969e+01\n",
       "Adj Close    5.281323e+01  3.471290e+01        5.672724e+01\n",
       "Volume       6.353079e+07  2.262917e+07        1.548333e+08\n",
       "MACD        -1.240202e+00  6.566909e-02        7.471101e+00\n",
       "Signal Line -1.239155e+00  6.460009e-02        7.448345e+00"
      ]
     },
     "execution_count": 8,
     "metadata": {},
     "output_type": "execute_result"
    }
   ],
   "source": [
    "statistics = {\n",
    "    'Mean': df.mean(numeric_only=True),\n",
    "    'Median': df.median(numeric_only=True),\n",
    "    'Standard Deviation': df.std(numeric_only=True)\n",
    "}\n",
    "\n",
    "statistics_df = pd.DataFrame(statistics)\n",
    "statistics_df"
   ]
  },
  {
   "cell_type": "code",
   "execution_count": 34,
   "id": "bec61333",
   "metadata": {},
   "outputs": [],
   "source": [
    "def get_arima_order(df, target):\n",
    "#     auto_model = auto_arima(df[target], seasonal = False, stepwise=True, suppress_warnings=True)\n",
    "#     print(\"Auto ARIMA Model Summary:\")\n",
    "#     print(auto_model.summary())\n",
    "\n",
    "#     p, d, q = auto_model.order\n",
    "#     print(\"From auto arima p d q : {} {} {}\".format(p, d, q))\n",
    "  # grid search\n",
    "    p=d=q=range(0,4)\n",
    "    pdq=list(itertools.product(p,d,q))\n",
    "    min_aic = float('inf')\n",
    "    order = None\n",
    "    for param in pdq:\n",
    "        try:\n",
    "            mod = ARIMA(df[target], order=param)\n",
    "            results = mod.fit()\n",
    "            if results.aic < min_aic:\n",
    "                min_aic = results.aic\n",
    "                order = param\n",
    "            print()\n",
    "        except Exception as e:\n",
    "            print(e)\n",
    "    print(order, min_aic)"
   ]
  },
  {
   "cell_type": "code",
   "execution_count": 32,
   "id": "974af93a",
   "metadata": {},
   "outputs": [
    {
     "name": "stderr",
     "output_type": "stream",
     "text": [
      "/Users/tanavi/anaconda3/lib/python3.11/site-packages/statsmodels/tsa/base/tsa_model.py:473: ValueWarning: A date index has been provided, but it has no associated frequency information and so will be ignored when e.g. forecasting.\n",
      "  self._init_dates(dates, freq)\n",
      "/Users/tanavi/anaconda3/lib/python3.11/site-packages/statsmodels/tsa/base/tsa_model.py:473: ValueWarning: A date index has been provided, but it has no associated frequency information and so will be ignored when e.g. forecasting.\n",
      "  self._init_dates(dates, freq)\n",
      "/Users/tanavi/anaconda3/lib/python3.11/site-packages/statsmodels/tsa/base/tsa_model.py:473: ValueWarning: A date index has been provided, but it has no associated frequency information and so will be ignored when e.g. forecasting.\n",
      "  self._init_dates(dates, freq)\n",
      "/Users/tanavi/anaconda3/lib/python3.11/site-packages/statsmodels/tsa/base/tsa_model.py:836: ValueWarning: No supported index is available. Prediction results will be given with an integer index beginning at `start`.\n",
      "  return get_prediction_index(\n",
      "/Users/tanavi/anaconda3/lib/python3.11/site-packages/statsmodels/tsa/base/tsa_model.py:836: FutureWarning: No supported index is available. In the next version, calling this method in a model without a supported index will result in an exception.\n",
      "  return get_prediction_index(\n"
     ]
    },
    {
     "data": {
      "image/png": "[encoded data removed]",
      "text/plain": [
       "<Figure size 1000x600 with 1 Axes>"
      ]
     },
     "metadata": {},
     "output_type": "display_data"
    }
   ],
   "source": [
    "company_data = df[df['company_name'] == 'apple']\n",
    "\n",
    "series = company_data['Adj Close']\n",
    "\n",
    "split = int(len(series) * 0.85)\n",
    "train, test = series[:split], series[split:]\n",
    "\n",
    "model = ARIMA(train, order=(1,1,0))  # Example order (p, d, q)\n",
    "model_fit = model.fit()\n",
    "\n",
    "# Forecast next time points\n",
    "forecast = model_fit.forecast(steps=len(test))\n",
    "\n",
    "# Plot actual and forecasted values\n",
    "plt.figure(figsize=(10, 6))\n",
    "plt.plot(train.index, train, label='Training Data')\n",
    "plt.plot(test.index, test, color='blue', label='Actual')\n",
    "plt.plot(test.index, forecast, color='red', label='Forecast')\n",
    "plt.title('Actual vs Forecasted Adj Close Prices for Apple')\n",
    "plt.xlabel('Date')\n",
    "plt.ylabel('Price')\n",
    "plt.legend()\n",
    "plt.grid(True)\n",
    "plt.show()"
   ]
  },
  {
   "cell_type": "code",
   "execution_count": 33,
   "id": "9a50d3d3",
   "metadata": {},
   "outputs": [
    {
     "name": "stdout",
     "output_type": "stream",
     "text": [
      "None inf\n"
     ]
    }
   ],
   "source": [
    "get_arima_order(train, 'Adj Close')"
   ]
  },
  {
   "cell_type": "code",
   "execution_count": null,
   "id": "50c910f2",
   "metadata": {},
   "outputs": [],
   "source": []
  }
 ],
 "metadata": {
  "kernelspec": {
   "display_name": "Python 3 (ipykernel)",
   "language": "python",
   "name": "python3"
  },
  "language_info": {
   "codemirror_mode": {
    "name": "ipython",
    "version": 3
   },
   "file_extension": ".py",
   "mimetype": "text/x-python",
   "name": "python",
   "nbconvert_exporter": "python",
   "pygments_lexer": "ipython3",
   "version": "3.11.5"
  }
 },
 "nbformat": 4,
 "nbformat_minor": 5
}
