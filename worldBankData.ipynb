{
 "cells": [
  {
   "cell_type": "markdown",
   "id": "bf24b5eb",
   "metadata": {},
   "source": [
    "Links\n",
    "\n",
    "https://datahelpdesk.worldbank.org/knowledgebase/articles/898581\n",
    "\n",
    "https://documents.worldbank.org/en/publication/documents-reports/api"
   ]
  },
  {
   "cell_type": "code",
   "execution_count": 4,
   "id": "b35c8b9b",
   "metadata": {},
   "outputs": [],
   "source": [
    "import pandas as pd\n",
    "import numpy as np\n",
    "import requests\n",
    "\n",
    "from pprint import pprint"
   ]
  },
  {
   "cell_type": "code",
   "execution_count": 45,
   "id": "fca9b2e1",
   "metadata": {},
   "outputs": [
    {
     "name": "stdout",
     "output_type": "stream",
     "text": [
      "**********\n",
      "NY.GDP.MKTP.CD\n",
      "   date         value\n",
      "0  2023           NaN\n",
      "1  2022  2.543970e+13\n",
      "2  2021  2.331508e+13\n",
      "3  2020  2.106047e+13\n",
      "4  2019  2.138098e+13\n",
      "**********\n",
      "FP.CPI.TOTL.ZG\n",
      "   date     value\n",
      "0  2023       NaN\n",
      "1  2022  8.002800\n",
      "2  2021  4.697859\n",
      "3  2020  1.233584\n",
      "4  2019  1.812210\n",
      "**********\n",
      "SL.UEM.TOTL.ZS\n",
      "   date  value\n",
      "0  2023  3.648\n",
      "1  2022  3.650\n",
      "2  2021  5.350\n",
      "3  2020  8.050\n",
      "4  2019  3.670\n"
     ]
    }
   ],
   "source": [
    "\n",
    "def get_world_bank_data(indicator_code, start_year, end_year):\n",
    "\n",
    "    url = \"https://api.worldbank.org/v2/country/us/indicator/{}?date={}:{}&format=json\".format(indicator_code, start_year, end_year)\n",
    "    \n",
    "    response = requests.get(url)\n",
    "\n",
    "    if response.status_code == 200:\n",
    "\n",
    "        data = response.json()\n",
    "        data = data[1]\n",
    "        \n",
    "        final_data = []\n",
    "        for d in data:\n",
    "            temp = {}\n",
    "            temp[\"date\"] = d[\"date\"]\n",
    "            temp[\"value\"] = d[\"value\"]\n",
    "            final_data.append(temp)\n",
    "\n",
    "        print(\"**********\")\n",
    "        df = pd.DataFrame(final_data)\n",
    "#         df_pivot = df.pivot(index='date', columns='countryiso3code', values=indicator_code)\n",
    "        return df\n",
    "    else:\n",
    "        print(\"Error fetching data:\", response.status_code)\n",
    "        return None\n",
    "\n",
    "indicator_codes = [\"NY.GDP.MKTP.CD\", \"FP.CPI.TOTL.ZG\", \"SL.UEM.TOTL.ZS\"]  \n",
    "\n",
    "start_year = 2005\n",
    "end_year = 2024\n",
    "\n",
    "world_bank_data = pd.DataFrame()\n",
    "\n",
    "for indicator_code in indicator_codes:\n",
    "    indicator_data = get_world_bank_data(indicator_code, start_year, end_year)\n",
    "    print(indicator_code)\n",
    "    print(indicator_data.head())\n",
    "\n",
    "# combined_df_with_world_bank_data = pd.merge(combined_df, world_bank_data, how='left', left_index=True, right_index=True)\n",
    "# world_bank_data.head()"
   ]
  },
  {
   "cell_type": "code",
   "execution_count": null,
   "id": "2bca68ea",
   "metadata": {},
   "outputs": [],
   "source": []
  }
 ],
 "metadata": {
  "kernelspec": {
   "display_name": "Python 3 (ipykernel)",
   "language": "python",
   "name": "python3"
  },
  "language_info": {
   "codemirror_mode": {
    "name": "ipython",
    "version": 3
   },
   "file_extension": ".py",
   "mimetype": "text/x-python",
   "name": "python",
   "nbconvert_exporter": "python",
   "pygments_lexer": "ipython3",
   "version": "3.11.5"
  }
 },
 "nbformat": 4,
 "nbformat_minor": 5
}
